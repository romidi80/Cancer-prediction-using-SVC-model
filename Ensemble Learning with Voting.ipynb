{
 "cells": [
  {
   "cell_type": "code",
   "execution_count": 3,
   "metadata": {},
   "outputs": [],
   "source": [
    "from sklearn.model_selection import KFold\n",
    "from sklearn.linear_model import LogisticRegression\n",
    "from sklearn.model_selection import cross_val_score\n",
    "from sklearn.tree import DecisionTreeClassifier\n",
    "from sklearn.ensemble import VotingClassifier\n",
    "from sklearn.svm import SVC\n",
    "import numpy as np\n",
    "import pandas as pd"
   ]
  },
  {
   "cell_type": "code",
   "execution_count": 30,
   "metadata": {},
   "outputs": [],
   "source": [
    "def find_missing_data_col(data):\n",
    "    for i in range(len(data)):\n",
    "        for j in range(len(data[i])):\n",
    "            if data[i][j] == '?':\n",
    "                return j"
   ]
  },
  {
   "cell_type": "code",
   "execution_count": 36,
   "metadata": {},
   "outputs": [],
   "source": [
    "data = pd.read_csv(\"cancer.csv\")\n",
    "data = np.array(data)"
   ]
  },
  {
   "cell_type": "code",
   "execution_count": 37,
   "metadata": {},
   "outputs": [],
   "source": [
    "Sum = []\n",
    "rows_with_missing_data = []\n",
    "missing_column = find_missing_data_col(data)\n",
    "for i in range(len(data)):\n",
    "    if data[i][missing_column] != '?':\n",
    "        Sum.append(int(data[i][missing_column]))\n",
    "    else:\n",
    "        rows_with_missing_data.append(i)\n",
    "for i in rows_with_missing_data:\n",
    "    data[i][missing_column] = np.mean(Sum)"
   ]
  },
  {
   "cell_type": "code",
   "execution_count": 38,
   "metadata": {},
   "outputs": [],
   "source": [
    "y_data = []\n",
    "X = []\n",
    "for row in data:\n",
    "    row = list(row)\n",
    "    y_data.append(row.pop(-1))\n",
    "    X.append(row)"
   ]
  },
  {
   "cell_type": "code",
   "execution_count": 41,
   "metadata": {},
   "outputs": [
    {
     "name": "stdout",
     "output_type": "stream",
     "text": [
      "accuracy: 74.68737060041408\n"
     ]
    }
   ],
   "source": [
    "kfold = KFold(n_splits = 10)\n",
    "models = [('lr', LogisticRegression()), ('svm', SVC()), ('tree', DecisionTreeClassifier())]\n",
    "model = VotingClassifier(estimators = models)\n",
    "scores = cross_val_score(model, data, y_data, scoring = 'accuracy', cv = kfold)\n",
    "print(\"accuracy:\", np.mean(scores) * 100)"
   ]
  }
 ],
 "metadata": {
  "interpreter": {
   "hash": "a2f21ddba29c44fe69ec1e1b73305eee48f12316d4fbbc27a7ff370552f5cb8e"
  },
  "kernelspec": {
   "display_name": "Python 3.10.2 64-bit",
   "language": "python",
   "name": "python3"
  },
  "language_info": {
   "codemirror_mode": {
    "name": "ipython",
    "version": 3
   },
   "file_extension": ".py",
   "mimetype": "text/x-python",
   "name": "python",
   "nbconvert_exporter": "python",
   "pygments_lexer": "ipython3",
   "version": "3.10.2"
  },
  "orig_nbformat": 4
 },
 "nbformat": 4,
 "nbformat_minor": 2
}
